{
 "cells": [
  {
   "cell_type": "markdown",
   "id": "recognized-armstrong",
   "metadata": {},
   "source": [
    "## Stats 504: Practice and Communication in Applied Statistics\n",
    "Overall goal: Prepare master-level statistics and data science students for collaborative, interdisciplinary work and research\n",
    "Contributing skills:\n",
    "- Formulate meaningful and tractable questions based on research goals and consistent with available data\n",
    "- Devise, document, and implement analysis strategies\n",
    "- Communicate findings through prose and visuals\n",
    "- Leverage knowledge of statistical foundations and theory when engaging in applied research\n",
    "- Understand the capabilities and limitations of statistical methods\n",
    "- Understand the value and limitations of different types of data\n",
    "- Interpret of analytic results for a general audience\n",
    "- Develop data manipulation and computing skills, especially for large and complex data sets\n",
    "- Build knowledge about several applied research areas where data-driven investigation plays a major role\n",
    "- What are some skills you would like to learn in this course?"
   ]
  },
  {
   "cell_type": "markdown",
   "id": "valid-craps",
   "metadata": {},
   "source": [
    "## About me\n",
    "- Worked at a master-level biostatistician for 5 years in HIV/STI research\n",
    "- Did a joint PhD in Engineering and Public Policy and in Statistics and Data Science\n",
    "- Thesis topic on non-parametric causal discovery and sexually transmitted infection prevention\n",
    "- Co-taught this course last semester for first time\n",
    "- In my experience, there was a big jump from me doing my MS in biostats to work\n",
    " - 60% data formatting and cleaning\n",
    " - Collaborators expected me to also be an expert in HIV/STI, present at conferences\n",
    " - Needed to use methods I never learned before\n",
    " - Communicate statistical material with non-statistical experts\n",
    " - Gave me some real-world statistical background before my PhD"
   ]
  },
  {
   "cell_type": "markdown",
   "id": "suburban-sigma",
   "metadata": {},
   "source": [
    "## Course Layout\n",
    "- Case studies\n",
    " - research question\n",
    " - dataset\n",
    " - methodology\n",
    "  - some theory\n",
    "  - Reproducible code\n",
    "- Homework\n",
    " - attempts to simulate work experience\n",
    " - 2-3 page, well-written memo of finding for non-statistical audience\n",
    " - Memo layout:\n",
    "  - Intro: Introduce topic, explain problem, what you are going to do\n",
    "  - Describe method and purpose it serves\n",
    "  - Explain data and results\n",
    "  - Conclusion: how do these results answer question\n",
    " - [Writing tips](http://dept.stat.lsa.umich.edu/~kshedden/stats504/topics/writing_tips/)\n",
    " - include reproducible code (rmarkdown or jupyter notebook)\n",
    " - Reproducible code makes your work more transparent to others.  You will be required to submit your reproducible code: [Rmarkdown](https://rmarkdown.rstudio.com), [Jupyter notebook](https://jupyter.org)\n",
    " - [Jupyter notebook tutorial](https://www.dataquest.io/blog/jupyter-notebook-tutorial/), [Rmarkdown tutorial](https://r4ds.had.co.nz/r-markdown.html)\n",
    " - Course code will be in both python and R\n",
    " - Assignments will be given every two weeks and collected two weeks after issued\n",
    " - Assignments will be assess on writing quality, clarity, reproducible code, statistical correctness\n",
    "- During class:\n",
    " - I will present with lecture notes\n",
    " - OK/encouraged to speak up with comments or questions\n",
    " - I will try to use zoom polling to gage class interest and understanding\n",
    " - 5% of grade based on class participation\n",
    " - I will record all lectures send on to individuals when requested\n",
    " - I would like you to keep your cameras on for most of the lecture if possible\n",
    " - Thoughts/Questions"
   ]
  },
  {
   "cell_type": "markdown",
   "id": "thousand-induction",
   "metadata": {},
   "source": [
    "#### Statistics vs Data Science/Machine Learning\n",
    "- What's the difference?\n",
    "- Which is more useful?\n",
    "- What will we focus on in this class?"
   ]
  },
  {
   "cell_type": "markdown",
   "id": "altered-lover",
   "metadata": {},
   "source": [
    "## Cyclist Crossing the Brooklyn Bridge\n",
    "- The dataset below gives the number of bikes that cross the Brooklyn Bridge each day between 1 April 2017 and 31 October 2017\n",
    "- We want to understand which variables are associated with the number of crossings\n",
    "- Poll: Programming language?\n",
    "- This lecture is in python but some will be in R as well\n",
    "- It's ok if you're not familiar with python or shell command\n",
    "- We will be using the following modules in python3\n",
    " - Note: the percent sign (%) in jupyter lets us run shell commands"
   ]
  },
  {
   "cell_type": "code",
   "execution_count": 2,
   "id": "infinite-boxing",
   "metadata": {
    "collapsed": true
   },
   "outputs": [
    {
     "name": "stdout",
     "output_type": "stream",
     "text": [
      "Requirement already satisfied: pandas in /usr/local/lib/python3.9/site-packages (1.2.0)\n",
      "Requirement already satisfied: python-dateutil>=2.7.3 in /usr/local/lib/python3.9/site-packages (from pandas) (2.8.1)\n",
      "Requirement already satisfied: numpy>=1.16.5 in /usr/local/lib/python3.9/site-packages (from pandas) (1.19.5)\n",
      "Requirement already satisfied: pytz>=2017.3 in /usr/local/lib/python3.9/site-packages (from pandas) (2020.5)\n",
      "Requirement already satisfied: six>=1.5 in /usr/local/lib/python3.9/site-packages (from python-dateutil>=2.7.3->pandas) (1.15.0)\n",
      "Note: you may need to restart the kernel to use updated packages.\n",
      "Requirement already satisfied: statsmodels in /usr/local/lib/python3.9/site-packages (0.12.1)\n",
      "Requirement already satisfied: numpy>=1.15 in /usr/local/lib/python3.9/site-packages (from statsmodels) (1.19.5)\n",
      "Requirement already satisfied: scipy>=1.1 in /usr/local/lib/python3.9/site-packages (from statsmodels) (1.6.0)\n",
      "Requirement already satisfied: pandas>=0.21 in /usr/local/lib/python3.9/site-packages (from statsmodels) (1.2.0)\n",
      "Requirement already satisfied: patsy>=0.5 in /usr/local/lib/python3.9/site-packages (from statsmodels) (0.5.1)\n",
      "Requirement already satisfied: python-dateutil>=2.7.3 in /usr/local/lib/python3.9/site-packages (from pandas>=0.21->statsmodels) (2.8.1)\n",
      "Requirement already satisfied: pytz>=2017.3 in /usr/local/lib/python3.9/site-packages (from pandas>=0.21->statsmodels) (2020.5)\n",
      "Requirement already satisfied: six in /usr/local/lib/python3.9/site-packages (from patsy>=0.5->statsmodels) (1.15.0)\n",
      "Note: you may need to restart the kernel to use updated packages.\n",
      "Requirement already satisfied: numpy in /usr/local/lib/python3.9/site-packages (1.19.5)\n",
      "Note: you may need to restart the kernel to use updated packages.\n",
      "Requirement already satisfied: matplotlib in /usr/local/lib/python3.9/site-packages (3.3.3)\n",
      "Requirement already satisfied: cycler>=0.10 in /usr/local/lib/python3.9/site-packages (from matplotlib) (0.10.0)\n",
      "Requirement already satisfied: numpy>=1.15 in /usr/local/lib/python3.9/site-packages (from matplotlib) (1.19.5)\n",
      "Requirement already satisfied: kiwisolver>=1.0.1 in /usr/local/lib/python3.9/site-packages (from matplotlib) (1.3.1)\n",
      "Requirement already satisfied: pillow>=6.2.0 in /usr/local/lib/python3.9/site-packages (from matplotlib) (8.1.0)\n",
      "Requirement already satisfied: python-dateutil>=2.1 in /usr/local/lib/python3.9/site-packages (from matplotlib) (2.8.1)\n",
      "Requirement already satisfied: pyparsing!=2.0.4,!=2.1.2,!=2.1.6,>=2.0.3 in /usr/local/lib/python3.9/site-packages (from matplotlib) (2.4.7)\n",
      "Requirement already satisfied: six in /usr/local/lib/python3.9/site-packages (from cycler>=0.10->matplotlib) (1.15.0)\n",
      "Note: you may need to restart the kernel to use updated packages.\n"
     ]
    }
   ],
   "source": [
    "%pip install pandas\n",
    "%pip install statsmodels\n",
    "%pip install numpy\n",
    "%pip install matplotlib"
   ]
  },
  {
   "cell_type": "markdown",
   "id": "color-karaoke",
   "metadata": {},
   "source": [
    "importing the following modules"
   ]
  },
  {
   "cell_type": "code",
   "execution_count": 3,
   "id": "olive-deadline",
   "metadata": {
    "scrolled": true
   },
   "outputs": [],
   "source": [
    "import pandas as pd\n",
    "import numpy as np\n",
    "import statsmodels.api as sm\n",
    "import matplotlib.pyplot as plt"
   ]
  },
  {
   "cell_type": "markdown",
   "id": "electronic-casting",
   "metadata": {},
   "source": [
    "read in data and get month, day of week, and day from date"
   ]
  },
  {
   "cell_type": "code",
   "execution_count": 4,
   "id": "british-transformation",
   "metadata": {
    "scrolled": true
   },
   "outputs": [],
   "source": [
    "df = pd.read_csv('bike.csv', header=0, infer_datetime_format=True, parse_dates=[0], index_col=[0])\n",
    "ds = df.index.to_series()\n",
    "df['MONTH'] = ds.dt.month\n",
    "df['DAY_OF_WEEK'] = ds.dt.dayofweek\n",
    "df['DAY'] = ds.dt.day"
   ]
  },
  {
   "cell_type": "markdown",
   "id": "checked-stability",
   "metadata": {},
   "source": [
    "Visually inspecting data"
   ]
  },
  {
   "cell_type": "code",
   "execution_count": 5,
   "id": "prescription-gauge",
   "metadata": {
    "scrolled": true
   },
   "outputs": [
    {
     "data": {
      "text/html": [
       "<div>\n",
       "<style scoped>\n",
       "    .dataframe tbody tr th:only-of-type {\n",
       "        vertical-align: middle;\n",
       "    }\n",
       "\n",
       "    .dataframe tbody tr th {\n",
       "        vertical-align: top;\n",
       "    }\n",
       "\n",
       "    .dataframe thead th {\n",
       "        text-align: right;\n",
       "    }\n",
       "</style>\n",
       "<table border=\"1\" class=\"dataframe\">\n",
       "  <thead>\n",
       "    <tr style=\"text-align: right;\">\n",
       "      <th></th>\n",
       "      <th>HIGH_T</th>\n",
       "      <th>LOW_T</th>\n",
       "      <th>PRECIP</th>\n",
       "      <th>BB_COUNT</th>\n",
       "      <th>MONTH</th>\n",
       "      <th>DAY_OF_WEEK</th>\n",
       "      <th>DAY</th>\n",
       "    </tr>\n",
       "    <tr>\n",
       "      <th>Date</th>\n",
       "      <th></th>\n",
       "      <th></th>\n",
       "      <th></th>\n",
       "      <th></th>\n",
       "      <th></th>\n",
       "      <th></th>\n",
       "      <th></th>\n",
       "    </tr>\n",
       "  </thead>\n",
       "  <tbody>\n",
       "    <tr>\n",
       "      <th>2017-04-01</th>\n",
       "      <td>46.0</td>\n",
       "      <td>37.0</td>\n",
       "      <td>0.00</td>\n",
       "      <td>606</td>\n",
       "      <td>4</td>\n",
       "      <td>5</td>\n",
       "      <td>1</td>\n",
       "    </tr>\n",
       "    <tr>\n",
       "      <th>2017-04-02</th>\n",
       "      <td>62.1</td>\n",
       "      <td>41.0</td>\n",
       "      <td>0.00</td>\n",
       "      <td>2021</td>\n",
       "      <td>4</td>\n",
       "      <td>6</td>\n",
       "      <td>2</td>\n",
       "    </tr>\n",
       "    <tr>\n",
       "      <th>2017-04-03</th>\n",
       "      <td>63.0</td>\n",
       "      <td>50.0</td>\n",
       "      <td>0.03</td>\n",
       "      <td>2470</td>\n",
       "      <td>4</td>\n",
       "      <td>0</td>\n",
       "      <td>3</td>\n",
       "    </tr>\n",
       "    <tr>\n",
       "      <th>2017-04-04</th>\n",
       "      <td>51.1</td>\n",
       "      <td>46.0</td>\n",
       "      <td>1.18</td>\n",
       "      <td>723</td>\n",
       "      <td>4</td>\n",
       "      <td>1</td>\n",
       "      <td>4</td>\n",
       "    </tr>\n",
       "    <tr>\n",
       "      <th>2017-04-05</th>\n",
       "      <td>63.0</td>\n",
       "      <td>46.0</td>\n",
       "      <td>0.00</td>\n",
       "      <td>2807</td>\n",
       "      <td>4</td>\n",
       "      <td>2</td>\n",
       "      <td>5</td>\n",
       "    </tr>\n",
       "    <tr>\n",
       "      <th>2017-04-06</th>\n",
       "      <td>48.9</td>\n",
       "      <td>41.0</td>\n",
       "      <td>0.73</td>\n",
       "      <td>461</td>\n",
       "      <td>4</td>\n",
       "      <td>3</td>\n",
       "      <td>6</td>\n",
       "    </tr>\n",
       "    <tr>\n",
       "      <th>2017-04-07</th>\n",
       "      <td>48.0</td>\n",
       "      <td>43.0</td>\n",
       "      <td>0.01</td>\n",
       "      <td>1222</td>\n",
       "      <td>4</td>\n",
       "      <td>4</td>\n",
       "      <td>7</td>\n",
       "    </tr>\n",
       "    <tr>\n",
       "      <th>2017-04-08</th>\n",
       "      <td>55.9</td>\n",
       "      <td>39.9</td>\n",
       "      <td>0.00</td>\n",
       "      <td>1674</td>\n",
       "      <td>4</td>\n",
       "      <td>5</td>\n",
       "      <td>8</td>\n",
       "    </tr>\n",
       "    <tr>\n",
       "      <th>2017-04-09</th>\n",
       "      <td>66.0</td>\n",
       "      <td>45.0</td>\n",
       "      <td>0.00</td>\n",
       "      <td>2375</td>\n",
       "      <td>4</td>\n",
       "      <td>6</td>\n",
       "      <td>9</td>\n",
       "    </tr>\n",
       "    <tr>\n",
       "      <th>2017-04-10</th>\n",
       "      <td>73.9</td>\n",
       "      <td>55.0</td>\n",
       "      <td>0.00</td>\n",
       "      <td>3324</td>\n",
       "      <td>4</td>\n",
       "      <td>0</td>\n",
       "      <td>10</td>\n",
       "    </tr>\n",
       "  </tbody>\n",
       "</table>\n",
       "</div>"
      ],
      "text/plain": [
       "            HIGH_T  LOW_T  PRECIP  BB_COUNT  MONTH  DAY_OF_WEEK  DAY\n",
       "Date                                                                \n",
       "2017-04-01    46.0   37.0    0.00       606      4            5    1\n",
       "2017-04-02    62.1   41.0    0.00      2021      4            6    2\n",
       "2017-04-03    63.0   50.0    0.03      2470      4            0    3\n",
       "2017-04-04    51.1   46.0    1.18       723      4            1    4\n",
       "2017-04-05    63.0   46.0    0.00      2807      4            2    5\n",
       "2017-04-06    48.9   41.0    0.73       461      4            3    6\n",
       "2017-04-07    48.0   43.0    0.01      1222      4            4    7\n",
       "2017-04-08    55.9   39.9    0.00      1674      4            5    8\n",
       "2017-04-09    66.0   45.0    0.00      2375      4            6    9\n",
       "2017-04-10    73.9   55.0    0.00      3324      4            0   10"
      ]
     },
     "execution_count": 5,
     "metadata": {},
     "output_type": "execute_result"
    }
   ],
   "source": [
    "df.head(10)"
   ]
  },
  {
   "cell_type": "markdown",
   "id": "prompt-rochester",
   "metadata": {},
   "source": [
    "Size of dataset: (rows, columns)"
   ]
  },
  {
   "cell_type": "code",
   "execution_count": 6,
   "id": "outstanding-queen",
   "metadata": {
    "scrolled": true
   },
   "outputs": [
    {
     "data": {
      "text/plain": [
       "(214, 7)"
      ]
     },
     "execution_count": 6,
     "metadata": {},
     "output_type": "execute_result"
    }
   ],
   "source": [
    "df.shape"
   ]
  },
  {
   "cell_type": "markdown",
   "id": "extraordinary-arctic",
   "metadata": {},
   "source": [
    "- Show the number of missing variables\n",
    "- show means and st dev\n",
    "- overall order statistics\n",
    "- Frequently, applied papers will want to see a table giving mean (st dev) or medians (IQR)"
   ]
  },
  {
   "cell_type": "code",
   "execution_count": 7,
   "id": "hungry-profit",
   "metadata": {
    "scrolled": true
   },
   "outputs": [
    {
     "data": {
      "text/html": [
       "<div>\n",
       "<style scoped>\n",
       "    .dataframe tbody tr th:only-of-type {\n",
       "        vertical-align: middle;\n",
       "    }\n",
       "\n",
       "    .dataframe tbody tr th {\n",
       "        vertical-align: top;\n",
       "    }\n",
       "\n",
       "    .dataframe thead th {\n",
       "        text-align: right;\n",
       "    }\n",
       "</style>\n",
       "<table border=\"1\" class=\"dataframe\">\n",
       "  <thead>\n",
       "    <tr style=\"text-align: right;\">\n",
       "      <th></th>\n",
       "      <th>HIGH_T</th>\n",
       "      <th>LOW_T</th>\n",
       "      <th>PRECIP</th>\n",
       "      <th>BB_COUNT</th>\n",
       "      <th>MONTH</th>\n",
       "      <th>DAY_OF_WEEK</th>\n",
       "      <th>DAY</th>\n",
       "    </tr>\n",
       "  </thead>\n",
       "  <tbody>\n",
       "    <tr>\n",
       "      <th>count</th>\n",
       "      <td>214.000000</td>\n",
       "      <td>214.000000</td>\n",
       "      <td>214.000000</td>\n",
       "      <td>214.000000</td>\n",
       "      <td>214.000000</td>\n",
       "      <td>214.000000</td>\n",
       "      <td>214.000000</td>\n",
       "    </tr>\n",
       "    <tr>\n",
       "      <th>mean</th>\n",
       "      <td>74.201869</td>\n",
       "      <td>62.027103</td>\n",
       "      <td>0.132430</td>\n",
       "      <td>2680.042056</td>\n",
       "      <td>7.009346</td>\n",
       "      <td>3.000000</td>\n",
       "      <td>15.789720</td>\n",
       "    </tr>\n",
       "    <tr>\n",
       "      <th>std</th>\n",
       "      <td>10.390443</td>\n",
       "      <td>9.305792</td>\n",
       "      <td>0.394004</td>\n",
       "      <td>854.710864</td>\n",
       "      <td>2.002324</td>\n",
       "      <td>2.016365</td>\n",
       "      <td>8.848102</td>\n",
       "    </tr>\n",
       "    <tr>\n",
       "      <th>min</th>\n",
       "      <td>46.000000</td>\n",
       "      <td>37.000000</td>\n",
       "      <td>0.000000</td>\n",
       "      <td>151.000000</td>\n",
       "      <td>4.000000</td>\n",
       "      <td>0.000000</td>\n",
       "      <td>1.000000</td>\n",
       "    </tr>\n",
       "    <tr>\n",
       "      <th>25%</th>\n",
       "      <td>66.900000</td>\n",
       "      <td>55.225000</td>\n",
       "      <td>0.000000</td>\n",
       "      <td>2298.000000</td>\n",
       "      <td>5.000000</td>\n",
       "      <td>1.000000</td>\n",
       "      <td>8.000000</td>\n",
       "    </tr>\n",
       "    <tr>\n",
       "      <th>50%</th>\n",
       "      <td>75.900000</td>\n",
       "      <td>64.000000</td>\n",
       "      <td>0.000000</td>\n",
       "      <td>2857.000000</td>\n",
       "      <td>7.000000</td>\n",
       "      <td>3.000000</td>\n",
       "      <td>16.000000</td>\n",
       "    </tr>\n",
       "    <tr>\n",
       "      <th>75%</th>\n",
       "      <td>82.000000</td>\n",
       "      <td>70.000000</td>\n",
       "      <td>0.037500</td>\n",
       "      <td>3285.000000</td>\n",
       "      <td>9.000000</td>\n",
       "      <td>5.000000</td>\n",
       "      <td>23.000000</td>\n",
       "    </tr>\n",
       "    <tr>\n",
       "      <th>max</th>\n",
       "      <td>93.900000</td>\n",
       "      <td>78.100000</td>\n",
       "      <td>3.030000</td>\n",
       "      <td>4960.000000</td>\n",
       "      <td>10.000000</td>\n",
       "      <td>6.000000</td>\n",
       "      <td>31.000000</td>\n",
       "    </tr>\n",
       "  </tbody>\n",
       "</table>\n",
       "</div>"
      ],
      "text/plain": [
       "           HIGH_T       LOW_T      PRECIP     BB_COUNT       MONTH  \\\n",
       "count  214.000000  214.000000  214.000000   214.000000  214.000000   \n",
       "mean    74.201869   62.027103    0.132430  2680.042056    7.009346   \n",
       "std     10.390443    9.305792    0.394004   854.710864    2.002324   \n",
       "min     46.000000   37.000000    0.000000   151.000000    4.000000   \n",
       "25%     66.900000   55.225000    0.000000  2298.000000    5.000000   \n",
       "50%     75.900000   64.000000    0.000000  2857.000000    7.000000   \n",
       "75%     82.000000   70.000000    0.037500  3285.000000    9.000000   \n",
       "max     93.900000   78.100000    3.030000  4960.000000   10.000000   \n",
       "\n",
       "       DAY_OF_WEEK         DAY  \n",
       "count   214.000000  214.000000  \n",
       "mean      3.000000   15.789720  \n",
       "std       2.016365    8.848102  \n",
       "min       0.000000    1.000000  \n",
       "25%       1.000000    8.000000  \n",
       "50%       3.000000   16.000000  \n",
       "75%       5.000000   23.000000  \n",
       "max       6.000000   31.000000  "
      ]
     },
     "execution_count": 7,
     "metadata": {},
     "output_type": "execute_result"
    }
   ],
   "source": [
    "df.describe()"
   ]
  },
  {
   "cell_type": "markdown",
   "id": "irish-somalia",
   "metadata": {},
   "source": [
    "#### Visual variable distributions\n",
    "- Consider kinds of variables in the data\n",
    "- Consider size of dataset (rows and columns)\n",
    "- Look for anything strange in the data"
   ]
  },
  {
   "cell_type": "code",
   "execution_count": 8,
   "id": "dried-afternoon",
   "metadata": {
    "scrolled": false
   },
   "outputs": [
    {
     "data": {
      "image/png": "[encoded data removed]",
      "text/plain": [
       "<Figure size 432x288 with 1 Axes>"
      ]
     },
     "metadata": {
      "needs_background": "light"
     },
     "output_type": "display_data"
    },
    {
     "data": {
      "image/png": "[encoded data removed]",
      "text/plain": [
       "<Figure size 432x288 with 1 Axes>"
      ]
     },
     "metadata": {
      "needs_background": "light"
     },
     "output_type": "display_data"
    },
    {
     "data": {
      "image/png": "[encoded data removed]",
      "text/plain": [
       "<Figure size 432x288 with 1 Axes>"
      ]
     },
     "metadata": {
      "needs_background": "light"
     },
     "output_type": "display_data"
    },
    {
     "data": {
      "image/png": "[encoded data removed]",
      "text/plain": [
       "<Figure size 432x288 with 1 Axes>"
      ]
     },
     "metadata": {
      "needs_background": "light"
     },
     "output_type": "display_data"
    },
    {
     "data": {
      "image/png": "[encoded data removed]",
      "text/plain": [
       "<Figure size 432x288 with 1 Axes>"
      ]
     },
     "metadata": {
      "needs_background": "light"
     },
     "output_type": "display_data"
    },
    {
     "data": {
      "image/png": "[encoded data removed]",
      "text/plain": [
       "<Figure size 432x288 with 1 Axes>"
      ]
     },
     "metadata": {
      "needs_background": "light"
     },
     "output_type": "display_data"
    },
    {
     "data": {
      "image/png": "[encoded data removed]",
      "text/plain": [
       "<Figure size 432x288 with 1 Axes>"
      ]
     },
     "metadata": {
      "needs_background": "light"
     },
     "output_type": "display_data"
    }
   ],
   "source": [
    "%matplotlib inline\n",
    "df.columns\n",
    "for var in df.columns:\n",
    "    df.hist(column=var)"
   ]
  },
  {
   "cell_type": "markdown",
   "id": "dense-manhattan",
   "metadata": {},
   "source": [
    "#### scatter plots"
   ]
  },
  {
   "cell_type": "code",
   "execution_count": 9,
   "id": "periodic-labor",
   "metadata": {
    "scrolled": false
   },
   "outputs": [
    {
     "data": {
      "image/png": "[encoded data removed]",
      "text/plain": [
       "<Figure size 432x288 with 1 Axes>"
      ]
     },
     "metadata": {
      "needs_background": "light"
     },
     "output_type": "display_data"
    },
    {
     "data": {
      "image/png": "[encoded data removed]",
      "text/plain": [
       "<Figure size 432x288 with 1 Axes>"
      ]
     },
     "metadata": {
      "needs_background": "light"
     },
     "output_type": "display_data"
    },
    {
     "data": {
      "image/png": "[encoded data removed]",
      "text/plain": [
       "<Figure size 432x288 with 1 Axes>"
      ]
     },
     "metadata": {
      "needs_background": "light"
     },
     "output_type": "display_data"
    },
    {
     "data": {
      "image/png": "[encoded data removed]",
      "text/plain": [
       "<Figure size 432x288 with 1 Axes>"
      ]
     },
     "metadata": {
      "needs_background": "light"
     },
     "output_type": "display_data"
    },
    {
     "data": {
      "image/png": "[encoded data removed]",
      "text/plain": [
       "<Figure size 432x288 with 1 Axes>"
      ]
     },
     "metadata": {
      "needs_background": "light"
     },
     "output_type": "display_data"
    },
    {
     "data": {
      "image/png": "[encoded data removed]",
      "text/plain": [
       "<Figure size 432x288 with 1 Axes>"
      ]
     },
     "metadata": {
      "needs_background": "light"
     },
     "output_type": "display_data"
    },
    {
     "data": {
      "image/png": "[encoded data removed]",
      "text/plain": [
       "<Figure size 432x288 with 1 Axes>"
      ]
     },
     "metadata": {
      "needs_background": "light"
     },
     "output_type": "display_data"
    }
   ],
   "source": [
    "for var in df.columns:\n",
    "    df.plot.scatter(x=var, y='BB_COUNT')"
   ]
  },
  {
   "cell_type": "markdown",
   "id": "considerable-button",
   "metadata": {},
   "source": [
    "**Coding tip: DRY - Don't Repeat Yourself**"
   ]
  },
  {
   "cell_type": "markdown",
   "id": "equipped-mention",
   "metadata": {},
   "source": [
    "## Generalized Linear Models\n",
    "- Robust class of models that are frequently used in classical statistics\n",
    "- Models a function of conditional expectation as a linear function:\n",
    "$$g(E[Y|X=x])=\\beta_0+\\beta_1x_1+\\dots+\\beta_px_p$$\n",
    "- $g$ called a link function and should be invertible\n",
    "$$E[Y|X=x]=g^{-1}(\\beta_0+\\beta_1x_1+\\dots+\\beta_px_p)$$\n",
    "- Most common link functions are $g(x)=x$ and $g(x)=\\log(x)$\n",
    "- How is $g(E[Y|X=x])$ different from $E[g(Y)|X=x]$?\n",
    "- Two examples:\n",
    " * *Gaussian linear model:* \n",
    " * *Poisson log-linear mode:*\n",
    "- In general, which model to use depends on the distribution of $Y$\n",
    "- GLMs specify both conditional mean structure and conditional variance structure\n",
    " - example: $Y|X=x\\sim \\text{Poisson}(x)$ then $E[Y|X]=x$ and $\\text{Var}[Y|X]=x$\n",
    " - Can we use a Poisson model if $E[Y|X]\\neq\\text{Var}[Y|X]$ in data?  Yes\n",
    " - Overdispersion: $\\text{Var}[Y|X]=\\phi E[Y|X]$ for $\\phi\\geq 0$\n",
    " - In general, data does not need to be perfect to use a model\n",
    "- Common GLMs:\n",
    " - Binomial (logistic)\n",
    " - Poisson\n",
    " - Negative Binomial\n",
    " - Gaussian\n",
    " - Tweedie\n",
    "- Which model should we try for the bike count data?"
   ]
  },
  {
   "cell_type": "code",
   "execution_count": 10,
   "id": "dirty-sweet",
   "metadata": {
    "scrolled": false
   },
   "outputs": [
    {
     "data": {
      "text/html": [
       "<table class=\"simpletable\">\n",
       "<caption>Generalized Linear Model Regression Results</caption>\n",
       "<tr>\n",
       "  <th>Dep. Variable:</th>       <td>BB_COUNT</td>     <th>  No. Observations:  </th>  <td>   214</td> \n",
       "</tr>\n",
       "<tr>\n",
       "  <th>Model:</th>                  <td>GLM</td>       <th>  Df Residuals:      </th>  <td>   207</td> \n",
       "</tr>\n",
       "<tr>\n",
       "  <th>Model Family:</th>         <td>Poisson</td>     <th>  Df Model:          </th>  <td>     6</td> \n",
       "</tr>\n",
       "<tr>\n",
       "  <th>Link Function:</th>          <td>log</td>       <th>  Scale:             </th> <td>  1.0000</td>\n",
       "</tr>\n",
       "<tr>\n",
       "  <th>Method:</th>                <td>IRLS</td>       <th>  Log-Likelihood:    </th> <td> -15314.</td>\n",
       "</tr>\n",
       "<tr>\n",
       "  <th>Date:</th>            <td>Tue, 19 Jan 2021</td> <th>  Deviance:          </th> <td>  28563.</td>\n",
       "</tr>\n",
       "<tr>\n",
       "  <th>Time:</th>                <td>11:41:02</td>     <th>  Pearson chi2:      </th> <td>2.83e+04</td>\n",
       "</tr>\n",
       "<tr>\n",
       "  <th>No. Iterations:</th>          <td>6</td>        <th>                     </th>     <td> </td>   \n",
       "</tr>\n",
       "<tr>\n",
       "  <th>Covariance Type:</th>     <td>nonrobust</td>    <th>                     </th>     <td> </td>   \n",
       "</tr>\n",
       "</table>\n",
       "<table class=\"simpletable\">\n",
       "<tr>\n",
       "       <td></td>          <th>coef</th>     <th>std err</th>      <th>z</th>      <th>P>|z|</th>  <th>[0.025</th>    <th>0.975]</th>  \n",
       "</tr>\n",
       "<tr>\n",
       "  <th>Intercept</th>   <td>    7.0371</td> <td>    0.011</td> <td>  627.626</td> <td> 0.000</td> <td>    7.015</td> <td>    7.059</td>\n",
       "</tr>\n",
       "<tr>\n",
       "  <th>DAY</th>         <td>    0.0006</td> <td>    0.000</td> <td>    4.031</td> <td> 0.000</td> <td>    0.000</td> <td>    0.001</td>\n",
       "</tr>\n",
       "<tr>\n",
       "  <th>DAY_OF_WEEK</th> <td>   -0.0226</td> <td>    0.001</td> <td>  -34.134</td> <td> 0.000</td> <td>   -0.024</td> <td>   -0.021</td>\n",
       "</tr>\n",
       "<tr>\n",
       "  <th>MONTH</th>       <td>    0.0134</td> <td>    0.001</td> <td>   19.217</td> <td> 0.000</td> <td>    0.012</td> <td>    0.015</td>\n",
       "</tr>\n",
       "<tr>\n",
       "  <th>HIGH_T</th>      <td>    0.0242</td> <td>    0.000</td> <td>   80.905</td> <td> 0.000</td> <td>    0.024</td> <td>    0.025</td>\n",
       "</tr>\n",
       "<tr>\n",
       "  <th>LOW_T</th>       <td>   -0.0149</td> <td>    0.000</td> <td>  -45.539</td> <td> 0.000</td> <td>   -0.016</td> <td>   -0.014</td>\n",
       "</tr>\n",
       "<tr>\n",
       "  <th>PRECIP</th>      <td>   -0.7770</td> <td>    0.007</td> <td> -113.367</td> <td> 0.000</td> <td>   -0.790</td> <td>   -0.764</td>\n",
       "</tr>\n",
       "</table>"
      ],
      "text/plain": [
       "<class 'statsmodels.iolib.summary.Summary'>\n",
       "\"\"\"\n",
       "                 Generalized Linear Model Regression Results                  \n",
       "==============================================================================\n",
       "Dep. Variable:               BB_COUNT   No. Observations:                  214\n",
       "Model:                            GLM   Df Residuals:                      207\n",
       "Model Family:                 Poisson   Df Model:                            6\n",
       "Link Function:                    log   Scale:                          1.0000\n",
       "Method:                          IRLS   Log-Likelihood:                -15314.\n",
       "Date:                Tue, 19 Jan 2021   Deviance:                       28563.\n",
       "Time:                        11:41:02   Pearson chi2:                 2.83e+04\n",
       "No. Iterations:                     6                                         \n",
       "Covariance Type:            nonrobust                                         \n",
       "===============================================================================\n",
       "                  coef    std err          z      P>|z|      [0.025      0.975]\n",
       "-------------------------------------------------------------------------------\n",
       "Intercept       7.0371      0.011    627.626      0.000       7.015       7.059\n",
       "DAY             0.0006      0.000      4.031      0.000       0.000       0.001\n",
       "DAY_OF_WEEK    -0.0226      0.001    -34.134      0.000      -0.024      -0.021\n",
       "MONTH           0.0134      0.001     19.217      0.000       0.012       0.015\n",
       "HIGH_T          0.0242      0.000     80.905      0.000       0.024       0.025\n",
       "LOW_T          -0.0149      0.000    -45.539      0.000      -0.016      -0.014\n",
       "PRECIP         -0.7770      0.007   -113.367      0.000      -0.790      -0.764\n",
       "===============================================================================\n",
       "\"\"\""
      ]
     },
     "execution_count": 10,
     "metadata": {},
     "output_type": "execute_result"
    }
   ],
   "source": [
    "expr = 'BB_COUNT ~ DAY  + DAY_OF_WEEK + MONTH + HIGH_T + LOW_T + PRECIP'\n",
    "\n",
    "bikePoisson = sm.GLM.from_formula(expr, data=df, family=sm.families.Poisson()).fit()\n",
    "bikePoisson.summary()\n"
   ]
  },
  {
   "cell_type": "markdown",
   "id": "variable-winning",
   "metadata": {
    "scrolled": false
   },
   "source": [
    "What might be wrong with this model?"
   ]
  }
 ],
 "metadata": {
  "kernelspec": {
   "display_name": "Python 3",
   "language": "python",
   "name": "python3"
  },
  "language_info": {
   "codemirror_mode": {
    "name": "ipython",
    "version": 3
   },
   "file_extension": ".py",
   "mimetype": "text/x-python",
   "name": "python",
   "nbconvert_exporter": "python",
   "pygments_lexer": "ipython3",
   "version": "3.9.0"
  }
 },
 "nbformat": 4,
 "nbformat_minor": 5
}
